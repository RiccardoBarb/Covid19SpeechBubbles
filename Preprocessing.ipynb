{
 "cells": [
  {
   "cell_type": "code",
   "execution_count": null,
   "metadata": {},
   "outputs": [],
   "source": [
    "import unicodedata\n",
    "import glob\n",
    "import os\n",
    "from gensim.utils import lemmatize\n",
    "import re"
   ]
  },
  {
   "cell_type": "code",
   "execution_count": null,
   "metadata": {},
   "outputs": [],
   "source": [
    "filelist = []\n",
    "\n",
    "\n",
    "for root, dirs, files in os.walk('txt/'):\n",
    "    for file in files:\n",
    "        if file.endswith(\".txt\"):\n",
    "             filelist.append((os.path.join(root, file)))                       "
   ]
  },
  {
   "cell_type": "code",
   "execution_count": 2,
   "metadata": {},
   "outputs": [],
   "source": [
    "patt = re.compile('covid|coronavirus|covid-19')\n",
    "\n",
    "for i in filelist:\n",
    "    current = open(i).read()\n",
    "    newname = 'prep_'+i.split('/')[2]\n",
    "    newfile = open(newname,'w') \n",
    "    #we preprocess the text files to remove spaces and new lines\n",
    "    txa = unicodedata.normalize('NFKD',current)\n",
    "    txa = txa.replace(u'\\n', u' ')\n",
    "    txa = re.sub(patt,'virus',txa.lower())\n",
    "    #lemmatize single words in the texts put them together\n",
    "    lema = [wd.decode('utf-8').split('/')[0] for wd in lemmatize(txa)]\n",
    "    text = ' '.join(map(str, lema))\n",
    "    newfile.write(text) \n",
    "    newfile.close() "
   ]
  }
 ],
 "metadata": {
  "kernelspec": {
   "display_name": "Python 3",
   "language": "python",
   "name": "python3"
  },
  "language_info": {
   "codemirror_mode": {
    "name": "ipython",
    "version": 3
   },
   "file_extension": ".py",
   "mimetype": "text/x-python",
   "name": "python",
   "nbconvert_exporter": "python",
   "pygments_lexer": "ipython3",
   "version": "3.7.6"
  }
 },
 "nbformat": 4,
 "nbformat_minor": 4
}
